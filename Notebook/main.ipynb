{
 "cells": [
  {
   "cell_type": "markdown",
   "metadata": {},
   "source": [
    "### Preprocessing"
   ]
  },
  {
   "cell_type": "code",
   "execution_count": 1,
   "metadata": {},
   "outputs": [],
   "source": [
    "import numpy as np\n",
    "import pandas as pd\n",
    "import glob\n",
    "import os\n",
    "from nltk.tokenize import TreebankWordTokenizer\n",
    "from nltk.corpus import stopwords\n",
    "import nltk\n",
    "#nltk.download('stopwords')\n",
    "#from sklearn.feature_extraction.text import CountVectorizer\n",
    "import re\n",
    "from sklearn.decomposition import LatentDirichletAllocation as lda\n",
    "from sklearn.model_selection import train_test_split\n",
    "import warnings\n",
    "\n",
    "warnings.filterwarnings(\"ignore\")\n",
    "\n",
    "%run '/Users/Hugo/Documents/Github/HOTT_NLP_ENSAE/data.py'\n",
    "%run '/Users/Hugo/Documents/Github/HOTT_NLP_ENSAE/distances.py'\n",
    "%run '/Users/Hugo/Documents/Github/HOTT_NLP_ENSAE/hott.py'\n",
    "%run '/Users/Hugo/Documents/Github/HOTT_NLP_ENSAE/knn_classifier.py'"
   ]
  },
  {
   "cell_type": "markdown",
   "metadata": {},
   "source": [
    "#### On load le dataframe sur lequel on travaille (ici on prend un tout petit subsample)"
   ]
  },
  {
   "cell_type": "code",
   "execution_count": 3,
   "metadata": {},
   "outputs": [],
   "source": [
    "data_dir = '/Users/Hugo/Documents/Cours/ENSAE/3A/S2/NLP/Projet/data/nyt-comments'\n",
    "#embed_path_300 = '/Users/Hugo/Documents/Cours/ENSAE/3A/S2/NLP/Projet/data/glove.6B/glove.6B.300d.txt'\n",
    "embed_path_50 = '/Users/Hugo/Documents/Cours/ENSAE/3A/S2/NLP/Projet/data/glove.6B/glove.6B.50d.txt'\n",
    "df_ = pd.read_csv(glob.glob(data_dir+'/Comments*.csv')[0], encoding = 'latin1')\n",
    "df_ = df_.sample(frac=1).reset_index(drop=True)\n",
    "#cols = df_.columns\n",
    "df_test = df_[0:1000].reset_index(drop = True)\n",
    "#del df_"
   ]
  },
  {
   "cell_type": "code",
   "execution_count": null,
   "metadata": {},
   "outputs": [
    {
     "name": "stdout",
     "output_type": "stream",
     "text": [
      "The vocabulary has been reduced from 9128 words to 2327 words. This represents a reduction of 25.49 percent\n"
     ]
    }
   ],
   "source": [
    "data = load_data(df_test, embed_path_50, stemming = True, K = 30, p = 1, n_word_keep = 20)"
   ]
  },
  {
   "cell_type": "markdown",
   "metadata": {},
   "source": [
    "#### Revoir la fonction qui enlève les stops words car elle ne semble pas fonctionner : pourrait expliquer les mauvaises perf"
   ]
  },
  {
   "cell_type": "code",
   "execution_count": 4,
   "metadata": {},
   "outputs": [],
   "source": [
    "bow_train, bow_test, topic_train, topic_test, y_train, y_test = train_test_split(data['X'],\n",
    "                                                                                 data['proportions'],\n",
    "                                                                                 data['y'],\n",
    "                                                                                 random_state= 0)"
   ]
  },
  {
   "cell_type": "code",
   "execution_count": 5,
   "metadata": {},
   "outputs": [],
   "source": [
    "C = data['cost_T']\n",
    "n_classes = len(np.unique(y_train))"
   ]
  },
  {
   "cell_type": "code",
   "execution_count": 12,
   "metadata": {},
   "outputs": [
    {
     "data": {
      "text/plain": [
       "array([[0.        , 4.64048581, 5.24807162, ..., 4.86619727, 5.41143011,\n",
       "        4.91830491],\n",
       "       [4.64048581, 0.        , 4.5961142 , ..., 5.00382102, 5.67795103,\n",
       "        4.97617726],\n",
       "       [5.24807162, 4.5961142 , 0.        , ..., 4.55896923, 5.48743786,\n",
       "        5.17462195],\n",
       "       ...,\n",
       "       [4.86619727, 5.00382102, 4.55896923, ..., 0.        , 5.43669781,\n",
       "        4.96667617],\n",
       "       [5.41143011, 5.67795103, 5.48743786, ..., 5.43669781, 0.        ,\n",
       "        5.61467427],\n",
       "       [4.91830491, 4.97617726, 5.17462195, ..., 4.96667617, 5.61467427,\n",
       "        0.        ]])"
      ]
     },
     "execution_count": 12,
     "metadata": {},
     "output_type": "execute_result"
    }
   ],
   "source": [
    "C"
   ]
  },
  {
   "cell_type": "code",
   "execution_count": 22,
   "metadata": {},
   "outputs": [
    {
     "name": "stdout",
     "output_type": "stream",
     "text": [
      "Pour un un nombre de voisin égal à 18 l'erreur sur la base de test est de l'ordre de 0.772\n",
      "Pour un un nombre de voisin égal à 13 l'erreur sur la base de test est de l'ordre de 0.764\n"
     ]
    }
   ],
   "source": [
    "# We could test with wmd and other distances in the file distances.py, however, the computational time may limit us\n",
    "for neigh in {13,18} :\n",
    "    hott_test_error, hott_pred = knn(topic_train, topic_test, y_train, y_test, hott, C, n_neighbors=neigh)\n",
    "    print('Pour un un nombre de voisin égal à %s l\\'erreur sur la base de test est de l\\'ordre de %s'%(neigh,hott_test_error))"
   ]
  },
  {
   "cell_type": "code",
   "execution_count": 6,
   "metadata": {},
   "outputs": [],
   "source": [
    "def cust_hott(p,q):\n",
    "    \n",
    "    return hott(p, q, C, threshold=None)"
   ]
  },
  {
   "cell_type": "code",
   "execution_count": 59,
   "metadata": {},
   "outputs": [],
   "source": [
    "D = {}\n",
    "\n",
    "for id1,doc1 in enumerate(topic_test):\n",
    "    D[id1] = {}\n",
    "    for id2,doc2 in enumerate(topic_test):\n",
    "        D[id1][id2] = hott(doc1, doc2, C, threshold=None)\n",
    "        \n",
    "hott_mat = pd.DataFrame.from_dict(D)"
   ]
  },
  {
   "cell_type": "code",
   "execution_count": 80,
   "metadata": {},
   "outputs": [
    {
     "data": {
      "text/plain": [
       "250"
      ]
     },
     "execution_count": 80,
     "metadata": {},
     "output_type": "execute_result"
    }
   ],
   "source": [
    "len(topic_test)"
   ]
  },
  {
   "cell_type": "code",
   "execution_count": 7,
   "metadata": {},
   "outputs": [],
   "source": [
    "import matplotlib.pyplot as plt\n",
    "%matplotlib inline\n",
    "\n",
    "import seaborn as sns\n",
    "sns.set_style('darkgrid')\n",
    "sns.set_palette('muted')\n",
    "sns.set_context(\"notebook\", font_scale=1.5,\n",
    "                rc={\"lines.linewidth\": 2.5})\n"
   ]
  },
  {
   "cell_type": "code",
   "execution_count": 10,
   "metadata": {},
   "outputs": [],
   "source": [
    "from sklearn.manifold import TSNE \n",
    "\n",
    "\n",
    "Xtsne = TSNE(n_components=3, metric = cust_hott).fit_transform(topic_test)\n",
    "\n",
    "indice1 = []\n",
    "indice2 = []\n",
    "indice3 = []\n",
    "indice4 = []\n",
    "indice5 = []\n",
    "\n",
    "for i in range(len(y_test)):\n",
    "    \n",
    "    if y_test[i] == 1 :\n",
    "        indice1.append(i) \n",
    "\n",
    "    if y_test[i] == 2:\n",
    "        indice2.append(i) \n",
    "\n",
    "\n",
    "    if y_test[i] == 3 :\n",
    "        indice3.append(i) \n",
    "\n",
    "\n",
    "    if y_test[i] == 4 :\n",
    "        indice4.append(i) \n",
    "\n",
    "    if y_test[i] == 5 :\n",
    "        indice5.append(i) \n",
    "\n",
    "Xtsne1 = Xtsne[indice1]\n",
    "Xtsne2 = Xtsne[indice2]\n",
    "Xtsne3 = Xtsne[indice3]\n",
    "Xtsne4 = Xtsne[indice4]\n",
    "Xtsne5 = Xtsne[indice5]"
   ]
  },
  {
   "cell_type": "code",
   "execution_count": 11,
   "metadata": {},
   "outputs": [
    {
     "data": {
      "text/plain": [
       "<mpl_toolkits.mplot3d.art3d.Path3DCollection at 0x1a1461e978>"
      ]
     },
     "execution_count": 11,
     "metadata": {},
     "output_type": "execute_result"
    },
    {
     "data": {
      "image/png": "[encoded data removed]",
      "text/plain": [
       "<Figure size 432x288 with 1 Axes>"
      ]
     },
     "metadata": {},
     "output_type": "display_data"
    }
   ],
   "source": [
    "from mpl_toolkits.mplot3d import axes3d\n",
    "\n",
    "fig = plt.figure()\n",
    "ax = fig.add_subplot(111, projection = '3d')\n",
    "\n",
    "\n",
    "ax.scatter(Xtsne1[:,0],Xtsne1[:,1])\n",
    "ax.scatter(Xtsne2[:,0],Xtsne2[:,1])\n",
    "ax.scatter(Xtsne3[:,0],Xtsne3[:,1])\n",
    "ax.scatter(Xtsne4[:,0],Xtsne4[:,1])\n",
    "ax.scatter(Xtsne5[:,0],Xtsne5[:,1])"
   ]
  },
  {
   "cell_type": "code",
   "execution_count": null,
   "metadata": {},
   "outputs": [],
   "source": []
  }
 ],
 "metadata": {
  "kernelspec": {
   "display_name": "Python 3",
   "language": "python",
   "name": "python3"
  },
  "language_info": {
   "codemirror_mode": {
    "name": "ipython",
    "version": 3
   },
   "file_extension": ".py",
   "mimetype": "text/x-python",
   "name": "python",
   "nbconvert_exporter": "python",
   "pygments_lexer": "ipython3",
   "version": "3.6.8"
  }
 },
 "nbformat": 4,
 "nbformat_minor": 2
}
